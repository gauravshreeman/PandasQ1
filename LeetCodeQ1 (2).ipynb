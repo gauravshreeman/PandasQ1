#code 
import pandas as pd

student_data = { 'student_id' : ['210', '211', '212', '213'],
                'age' : ['13', '17', '14', '15']}
dataframe = pd.DataFrame(student_data)
print (dataframe)
