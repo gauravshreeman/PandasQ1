{
 "cells": [
  {
   "cell_type": "markdown",
   "id": "f93f699a-6eae-4007-9f08-c58bd15b96c9",
   "metadata": {},
   "source": [
    "Write a solution to create a DataFrame from a 2D list called student_data. This 2D list contains the IDs and ages of some students.\n",
    "\n",
    "The DataFrame should have two columns, student_id and age, and be in the same order as the original 2D list.\n",
    "\n",
    "The result format is in the following example."
   ]
  },
  {
   "cell_type": "markdown",
   "id": "4bf72a02-a496-469e-bf72-332202a1ada1",
   "metadata": {},
   "source": [
    "Input:\r\n",
    "student_data:\r\n",
    "[\r\n",
    "  [1, 15],\r\n",
    "  [2, 11],\r\n",
    "  [3, 11],\r\n",
    "  [4, 20]\r\n",
    "]\r\n",
    "Output:\r\n",
    "+------------+-----+\r\n",
    "| student_id | age |\r\n",
    "+------------+-----+\r\n",
    "| 1          | 15  |\r\n",
    "| 2          | 11  |\r\n",
    "| 3          | 11  |\r\n",
    "| 4          | 20  |\r\n",
    "+------------+-----+\r\n",
    "Explanation:\r\n",
    "A DataFrame was created on top of student_data, with two columns named student_id and age."
   ]
  },
  {
   "cell_type": "code",
   "execution_count": null,
   "id": "9d60f959-b6c4-4147-a620-381e806382e7",
   "metadata": {},
   "outputs": [],
   "source": [
    "#code \n",
    "import pandas as pd\n",
    "\n",
    "student_data = { 'student_id' : ['210', '211', '212', '213'],\n",
    "                'age' : ['13', '17', '14', '15']}\n",
    "f\n"
   ]
  }
 ],
 "metadata": {
  "kernelspec": {
   "display_name": "Python 3 (ipykernel)",
   "language": "python",
   "name": "python3"
  },
  "language_info": {
   "codemirror_mode": {
    "name": "ipython",
    "version": 3
   },
   "file_extension": ".py",
   "mimetype": "text/x-python",
   "name": "python",
   "nbconvert_exporter": "python",
   "pygments_lexer": "ipython3",
   "version": "3.11.7"
  }
 },
 "nbformat": 4,
 "nbformat_minor": 5
}
